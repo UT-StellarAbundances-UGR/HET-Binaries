{
 "metadata": {
  "name": "",
  "signature": "sha256:08e676f1baa88f2f557a0ebba886127d370da40fde40fb22565d37c1f93b03ba"
 },
 "nbformat": 3,
 "nbformat_minor": 0,
 "worksheets": [
  {
   "cells": [
    {
     "cell_type": "code",
     "collapsed": false,
     "input": [
      "import q2\n",
      "import numpy as np"
     ],
     "language": "python",
     "metadata": {},
     "outputs": [],
     "prompt_number": 59
    },
    {
     "cell_type": "code",
     "collapsed": false,
     "input": [
      "d = q2.Data('wbin_stars.csv', 'binarylines.csv')"
     ],
     "language": "python",
     "metadata": {},
     "outputs": [],
     "prompt_number": 60
    },
    {
     "cell_type": "code",
     "collapsed": false,
     "input": [
      "print d.star_data['id']"
     ],
     "language": "python",
     "metadata": {},
     "outputs": [
      {
       "output_type": "stream",
       "stream": "stdout",
       "text": [
        "['iris' 'HIP58067' 'HIP58073' 'HIP62596' 'HIP62596B' 'HIP89270' 'HIP89275'\n",
        " 'HIP99727' 'HIP99729']\n"
       ]
      }
     ],
     "prompt_number": 61
    },
    {
     "cell_type": "code",
     "collapsed": false,
     "input": [
      "a = q2.Star('HIP58067')\n",
      "b = q2.Star('HIP58073')"
     ],
     "language": "python",
     "metadata": {},
     "outputs": [],
     "prompt_number": 62
    },
    {
     "cell_type": "code",
     "collapsed": false,
     "input": [
      "a.get_data_from(d)\n",
      "a.get_model_atmosphere()\n",
      "\n",
      "b.get_data_from(d)\n",
      "b.get_model_atmosphere()"
     ],
     "language": "python",
     "metadata": {},
     "outputs": [],
     "prompt_number": 63
    },
    {
     "cell_type": "code",
     "collapsed": false,
     "input": [
      "q2.abundances.one(a, ['CI', 'OI', 'NaI', 'MgI'], b)"
     ],
     "language": "python",
     "metadata": {},
     "outputs": [],
     "prompt_number": 66
    },
    {
     "cell_type": "code",
     "collapsed": false,
     "input": [
      "q2.abundances.fancy_abund_plot(a, 'MgI')"
     ],
     "language": "python",
     "metadata": {},
     "outputs": [
      {
       "html": [
        "<script type=\"text/javascript\">\n",
        "        Bokeh.$(function() {\n",
        "            var modelid = \"faae1577-a915-4f99-8ba8-b784684923ed\";\n",
        "            var modeltype = \"Plot\";\n",
        "            var elementid = \"52fbf861-abbb-4817-bfff-2a2ae2fbdb0b\";\n",
        "            Bokeh.logger.info(\"Realizing plot:\")\n",
        "            Bokeh.logger.info(\" - modeltype: Plot\");\n",
        "            Bokeh.logger.info(\" - modelid: faae1577-a915-4f99-8ba8-b784684923ed\");\n",
        "            Bokeh.logger.info(\" - elementid: 52fbf861-abbb-4817-bfff-2a2ae2fbdb0b\");\n",
        "            var all_models = [{\"attributes\": {\"sources\": [{\"source\": {\"type\": \"ColumnDataSource\", \"id\": \"0e33e39a-328a-4232-bc31-d80ae0cc4a8d\"}, \"columns\": [\"ab\"]}], \"tags\": [], \"doc\": null, \"id\": \"21cedc32-dbf6-40e6-88f8-64b5b22618a6\"}, \"type\": \"DataRange1d\", \"id\": \"21cedc32-dbf6-40e6-88f8-64b5b22618a6\"}, {\"attributes\": {\"plot\": {\"subtype\": \"Figure\", \"type\": \"Plot\", \"id\": \"faae1577-a915-4f99-8ba8-b784684923ed\"}, \"dimensions\": [\"width\", \"height\"], \"tags\": [], \"doc\": null, \"id\": \"da62b62a-70c5-4281-a783-2fc6590c4a56\"}, \"type\": \"PanTool\", \"id\": \"da62b62a-70c5-4281-a783-2fc6590c4a56\"}, {\"attributes\": {\"doc\": null, \"id\": \"2a21f2ee-76be-4549-9f4b-4f38847add44\", \"tags\": []}, \"type\": \"BasicTickFormatter\", \"id\": \"2a21f2ee-76be-4549-9f4b-4f38847add44\"}, {\"attributes\": {\"nonselection_glyph\": {\"type\": \"Square\", \"id\": \"dd9d4903-6dfa-408a-9116-6bdba83b5573\"}, \"data_source\": {\"type\": \"ColumnDataSource\", \"id\": \"0e33e39a-328a-4232-bc31-d80ae0cc4a8d\"}, \"name\": null, \"tags\": [], \"doc\": null, \"selection_glyph\": null, \"id\": \"67fb1227-d3b5-48ce-939b-bc3316cc30dc\", \"glyph\": {\"type\": \"Square\", \"id\": \"f7d1e01e-447a-42be-8ffb-562e826371a2\"}}, \"type\": \"GlyphRenderer\", \"id\": \"67fb1227-d3b5-48ce-939b-bc3316cc30dc\"}, {\"attributes\": {\"plot\": {\"subtype\": \"Figure\", \"type\": \"Plot\", \"id\": \"faae1577-a915-4f99-8ba8-b784684923ed\"}, \"dimensions\": [\"width\", \"height\"], \"tags\": [], \"doc\": null, \"id\": \"0af12fd7-b7e0-4019-946b-5b3de94d1bfb\"}, \"type\": \"WheelZoomTool\", \"id\": \"0af12fd7-b7e0-4019-946b-5b3de94d1bfb\"}, {\"attributes\": {\"plot\": {\"subtype\": \"Figure\", \"type\": \"Plot\", \"id\": \"faae1577-a915-4f99-8ba8-b784684923ed\"}, \"tags\": [], \"doc\": null, \"axis_label\": \"A(MgI)\", \"formatter\": {\"type\": \"BasicTickFormatter\", \"id\": \"14aff0a2-46de-4238-a36d-627e65832838\"}, \"ticker\": {\"type\": \"BasicTicker\", \"id\": \"3b206b7d-78fd-4425-a434-969e79f8dcfd\"}, \"id\": \"20275636-f785-426f-92f3-242fe1393914\"}, \"type\": \"LinearAxis\", \"id\": \"20275636-f785-426f-92f3-242fe1393914\"}, {\"attributes\": {\"geometries\": [], \"tags\": [], \"doc\": null, \"id\": \"69debb17-a905-41c5-9cac-a65c8e3e2bf8\"}, \"type\": \"ToolEvents\", \"id\": \"69debb17-a905-41c5-9cac-a65c8e3e2bf8\"}, {\"attributes\": {\"plot\": {\"subtype\": \"Figure\", \"type\": \"Plot\", \"id\": \"faae1577-a915-4f99-8ba8-b784684923ed\"}, \"dimensions\": [\"width\", \"height\"], \"tags\": [], \"doc\": null, \"id\": \"382e625d-8115-4b99-9e7e-c62e6289c993\"}, \"type\": \"BoxZoomTool\", \"id\": \"382e625d-8115-4b99-9e7e-c62e6289c993\"}, {\"attributes\": {\"line_color\": {\"value\": \"blue\"}, \"line_alpha\": {\"units\": \"data\", \"value\": 1.0}, \"fill_color\": {\"value\": \"blue\"}, \"tags\": [], \"doc\": null, \"fill_alpha\": {\"units\": \"data\", \"value\": 1.0}, \"y\": {\"units\": \"data\", \"field\": \"ab\"}, \"x\": {\"units\": \"data\", \"field\": \"ww\"}, \"id\": \"f7d1e01e-447a-42be-8ffb-562e826371a2\", \"size\": {\"units\": \"screen\", \"value\": 10}}, \"type\": \"Square\", \"id\": \"f7d1e01e-447a-42be-8ffb-562e826371a2\"}, {\"attributes\": {\"sources\": [{\"source\": {\"type\": \"ColumnDataSource\", \"id\": \"0e33e39a-328a-4232-bc31-d80ae0cc4a8d\"}, \"columns\": [\"ww\"]}], \"tags\": [], \"doc\": null, \"id\": \"0b8a59b0-4246-4c0b-9cf4-9ca73ca30036\"}, \"type\": \"DataRange1d\", \"id\": \"0b8a59b0-4246-4c0b-9cf4-9ca73ca30036\"}, {\"attributes\": {\"tooltips\": [[\"Wavelength\", \"@ws A\"], [\"EW\", \"@ew mA\"], [\"Abundance\", \"@ab\"]], \"plot\": {\"subtype\": \"Figure\", \"type\": \"Plot\", \"id\": \"faae1577-a915-4f99-8ba8-b784684923ed\"}, \"tags\": [], \"doc\": null, \"renderers\": [], \"id\": \"7d7b74fe-a8c4-4bb2-b113-d517e888611a\", \"names\": [], \"always_active\": true}, \"type\": \"HoverTool\", \"id\": \"7d7b74fe-a8c4-4bb2-b113-d517e888611a\"}, {\"subtype\": \"Figure\", \"type\": \"Plot\", \"id\": \"faae1577-a915-4f99-8ba8-b784684923ed\", \"attributes\": {\"x_range\": {\"type\": \"DataRange1d\", \"id\": \"0b8a59b0-4246-4c0b-9cf4-9ca73ca30036\"}, \"right\": [], \"tags\": [], \"tools\": [{\"type\": \"PanTool\", \"id\": \"da62b62a-70c5-4281-a783-2fc6590c4a56\"}, {\"type\": \"WheelZoomTool\", \"id\": \"0af12fd7-b7e0-4019-946b-5b3de94d1bfb\"}, {\"type\": \"BoxZoomTool\", \"id\": \"382e625d-8115-4b99-9e7e-c62e6289c993\"}, {\"type\": \"ResetTool\", \"id\": \"eb4c63f0-b557-47c6-9b2c-1d6eb632d00e\"}, {\"type\": \"HoverTool\", \"id\": \"7d7b74fe-a8c4-4bb2-b113-d517e888611a\"}], \"title\": \"HIP58067\", \"extra_y_ranges\": {}, \"plot_width\": 650, \"renderers\": [{\"type\": \"LinearAxis\", \"id\": \"fa1d3bb8-fc94-4e30-8a05-da08d81fb4ec\"}, {\"type\": \"Grid\", \"id\": \"d4d27adb-8a01-4fdd-b3a9-969f207b65bb\"}, {\"type\": \"LinearAxis\", \"id\": \"20275636-f785-426f-92f3-242fe1393914\"}, {\"type\": \"Grid\", \"id\": \"8f85b2d6-3482-4762-8b90-a970866c2c6a\"}, {\"type\": \"GlyphRenderer\", \"id\": \"67fb1227-d3b5-48ce-939b-bc3316cc30dc\"}], \"extra_x_ranges\": {}, \"plot_height\": 300, \"tool_events\": {\"type\": \"ToolEvents\", \"id\": \"69debb17-a905-41c5-9cac-a65c8e3e2bf8\"}, \"above\": [], \"doc\": null, \"id\": \"faae1577-a915-4f99-8ba8-b784684923ed\", \"y_range\": {\"type\": \"DataRange1d\", \"id\": \"21cedc32-dbf6-40e6-88f8-64b5b22618a6\"}, \"below\": [{\"type\": \"LinearAxis\", \"id\": \"fa1d3bb8-fc94-4e30-8a05-da08d81fb4ec\"}], \"left\": [{\"type\": \"LinearAxis\", \"id\": \"20275636-f785-426f-92f3-242fe1393914\"}]}}, {\"attributes\": {\"column_names\": [\"ww\", \"difab\", \"ew\", \"ab\", \"ws\"], \"tags\": [], \"doc\": null, \"selected\": [], \"data\": {\"ww\": [4730.04, 5711.088, 6318.717, 6319.237, 7657.61], \"difab\": [0.0020000000000006679, -0.011000000000000121, -0.0090000000000003411, 0.024999999999999467, 0.014000000000000234], \"ew\": [67.1, 105.8, 41.2, 25.1, 97.3], \"ab\": [7.581, 7.414, 7.436, 7.528, 7.444], \"ws\": [\"4730.0\", \"5711.1\", \"6318.7\", \"6319.2\", \"7657.6\"]}, \"id\": \"0e33e39a-328a-4232-bc31-d80ae0cc4a8d\"}, \"type\": \"ColumnDataSource\", \"id\": \"0e33e39a-328a-4232-bc31-d80ae0cc4a8d\"}, {\"attributes\": {\"line_color\": {\"value\": \"#1f77b4\"}, \"line_alpha\": {\"units\": \"data\", \"value\": 0.1}, \"fill_color\": {\"value\": \"#1f77b4\"}, \"tags\": [], \"doc\": null, \"fill_alpha\": {\"units\": \"data\", \"value\": 0.1}, \"y\": {\"units\": \"data\", \"field\": \"ab\"}, \"x\": {\"units\": \"data\", \"field\": \"ww\"}, \"id\": \"dd9d4903-6dfa-408a-9116-6bdba83b5573\", \"size\": {\"units\": \"screen\", \"value\": 10}}, \"type\": \"Square\", \"id\": \"dd9d4903-6dfa-408a-9116-6bdba83b5573\"}, {\"attributes\": {\"plot\": {\"subtype\": \"Figure\", \"type\": \"Plot\", \"id\": \"faae1577-a915-4f99-8ba8-b784684923ed\"}, \"tags\": [], \"doc\": null, \"axis_label\": \"Wavelength (A)\", \"formatter\": {\"type\": \"BasicTickFormatter\", \"id\": \"2a21f2ee-76be-4549-9f4b-4f38847add44\"}, \"ticker\": {\"type\": \"BasicTicker\", \"id\": \"920bc6ab-6296-4e17-b63c-a7e74d64e6bf\"}, \"id\": \"fa1d3bb8-fc94-4e30-8a05-da08d81fb4ec\"}, \"type\": \"LinearAxis\", \"id\": \"fa1d3bb8-fc94-4e30-8a05-da08d81fb4ec\"}, {\"attributes\": {\"plot\": {\"subtype\": \"Figure\", \"type\": \"Plot\", \"id\": \"faae1577-a915-4f99-8ba8-b784684923ed\"}, \"tags\": [], \"doc\": null, \"id\": \"eb4c63f0-b557-47c6-9b2c-1d6eb632d00e\"}, \"type\": \"ResetTool\", \"id\": \"eb4c63f0-b557-47c6-9b2c-1d6eb632d00e\"}, {\"attributes\": {\"tags\": [], \"doc\": null, \"mantissas\": [2, 5, 10], \"id\": \"3b206b7d-78fd-4425-a434-969e79f8dcfd\", \"num_minor_ticks\": 5}, \"type\": \"BasicTicker\", \"id\": \"3b206b7d-78fd-4425-a434-969e79f8dcfd\"}, {\"attributes\": {\"doc\": null, \"id\": \"14aff0a2-46de-4238-a36d-627e65832838\", \"tags\": []}, \"type\": \"BasicTickFormatter\", \"id\": \"14aff0a2-46de-4238-a36d-627e65832838\"}, {\"attributes\": {\"plot\": {\"subtype\": \"Figure\", \"type\": \"Plot\", \"id\": \"faae1577-a915-4f99-8ba8-b784684923ed\"}, \"tags\": [], \"doc\": null, \"dimension\": 1, \"ticker\": {\"type\": \"BasicTicker\", \"id\": \"3b206b7d-78fd-4425-a434-969e79f8dcfd\"}, \"id\": \"8f85b2d6-3482-4762-8b90-a970866c2c6a\"}, \"type\": \"Grid\", \"id\": \"8f85b2d6-3482-4762-8b90-a970866c2c6a\"}, {\"attributes\": {\"tags\": [], \"doc\": null, \"mantissas\": [2, 5, 10], \"id\": \"920bc6ab-6296-4e17-b63c-a7e74d64e6bf\", \"num_minor_ticks\": 5}, \"type\": \"BasicTicker\", \"id\": \"920bc6ab-6296-4e17-b63c-a7e74d64e6bf\"}, {\"attributes\": {\"plot\": {\"subtype\": \"Figure\", \"type\": \"Plot\", \"id\": \"faae1577-a915-4f99-8ba8-b784684923ed\"}, \"tags\": [], \"doc\": null, \"dimension\": 0, \"ticker\": {\"type\": \"BasicTicker\", \"id\": \"920bc6ab-6296-4e17-b63c-a7e74d64e6bf\"}, \"id\": \"d4d27adb-8a01-4fdd-b3a9-969f207b65bb\"}, \"type\": \"Grid\", \"id\": \"d4d27adb-8a01-4fdd-b3a9-969f207b65bb\"}];\n",
        "            Bokeh.load_models(all_models);\n",
        "            var model = Bokeh.Collections(modeltype).get(modelid);\n",
        "            var view = new model.default_view({model: model, el: '#52fbf861-abbb-4817-bfff-2a2ae2fbdb0b'});\n",
        "            Bokeh.index[modelid] = view\n",
        "        });\n",
        "    </script>\n",
        "<div class=\"plotdiv\" id=\"52fbf861-abbb-4817-bfff-2a2ae2fbdb0b\"></div>\n",
        "\n"
       ],
       "metadata": {},
       "output_type": "display_data"
      },
      {
       "html": [
        "<script type=\"text/javascript\">\n",
        "        Bokeh.$(function() {\n",
        "            var modelid = \"5766d680-6728-4df1-8ba9-6e9fb78fd6c7\";\n",
        "            var modeltype = \"Plot\";\n",
        "            var elementid = \"7ba20648-bb95-45cd-bfaa-0ddc488fc815\";\n",
        "            Bokeh.logger.info(\"Realizing plot:\")\n",
        "            Bokeh.logger.info(\" - modeltype: Plot\");\n",
        "            Bokeh.logger.info(\" - modelid: 5766d680-6728-4df1-8ba9-6e9fb78fd6c7\");\n",
        "            Bokeh.logger.info(\" - elementid: 7ba20648-bb95-45cd-bfaa-0ddc488fc815\");\n",
        "            var all_models = [{\"attributes\": {\"plot\": {\"subtype\": \"Figure\", \"type\": \"Plot\", \"id\": \"5766d680-6728-4df1-8ba9-6e9fb78fd6c7\"}, \"dimensions\": [\"width\", \"height\"], \"tags\": [], \"doc\": null, \"id\": \"f4d7a17b-014c-4a8a-a690-cfdf3eacbfa1\"}, \"type\": \"PanTool\", \"id\": \"f4d7a17b-014c-4a8a-a690-cfdf3eacbfa1\"}, {\"attributes\": {\"plot\": {\"subtype\": \"Figure\", \"type\": \"Plot\", \"id\": \"5766d680-6728-4df1-8ba9-6e9fb78fd6c7\"}, \"tags\": [], \"doc\": null, \"dimension\": 0, \"ticker\": {\"type\": \"BasicTicker\", \"id\": \"a1f38571-2b04-4769-8800-cc44dee28367\"}, \"id\": \"08fefaf9-e66a-4dfa-a5d6-bc49804d57e3\"}, \"type\": \"Grid\", \"id\": \"08fefaf9-e66a-4dfa-a5d6-bc49804d57e3\"}, {\"attributes\": {\"plot\": {\"subtype\": \"Figure\", \"type\": \"Plot\", \"id\": \"5766d680-6728-4df1-8ba9-6e9fb78fd6c7\"}, \"dimensions\": [\"width\", \"height\"], \"tags\": [], \"doc\": null, \"id\": \"3f4e6ab8-3e9f-4dd8-b531-7ba7f85750b2\"}, \"type\": \"WheelZoomTool\", \"id\": \"3f4e6ab8-3e9f-4dd8-b531-7ba7f85750b2\"}, {\"attributes\": {\"line_color\": {\"value\": \"#1f77b4\"}, \"line_alpha\": {\"units\": \"data\", \"value\": 0.1}, \"fill_color\": {\"value\": \"#1f77b4\"}, \"tags\": [], \"doc\": null, \"fill_alpha\": {\"units\": \"data\", \"value\": 0.1}, \"y\": {\"units\": \"data\", \"field\": \"difab\"}, \"x\": {\"units\": \"data\", \"field\": \"ww\"}, \"id\": \"edca885c-0757-468d-9534-c6a5e5b8ad54\", \"size\": {\"units\": \"screen\", \"value\": 10}}, \"type\": \"Square\", \"id\": \"edca885c-0757-468d-9534-c6a5e5b8ad54\"}, {\"attributes\": {\"plot\": {\"subtype\": \"Figure\", \"type\": \"Plot\", \"id\": \"5766d680-6728-4df1-8ba9-6e9fb78fd6c7\"}, \"tags\": [], \"doc\": null, \"axis_label\": \"Wavelength (A)\", \"formatter\": {\"type\": \"BasicTickFormatter\", \"id\": \"cd2a3421-231b-42a1-850f-f338e28e250a\"}, \"ticker\": {\"type\": \"BasicTicker\", \"id\": \"a1f38571-2b04-4769-8800-cc44dee28367\"}, \"id\": \"556f7a28-f0a0-4b2f-86fb-bf19fa9c49a8\"}, \"type\": \"LinearAxis\", \"id\": \"556f7a28-f0a0-4b2f-86fb-bf19fa9c49a8\"}, {\"attributes\": {\"column_names\": [\"ww\", \"difabs\", \"ab\", \"ws\", \"difab\", \"ew\"], \"tags\": [], \"doc\": null, \"selected\": [], \"data\": {\"ab\": [7.581, 7.414, 7.436, 7.528, 7.444], \"difab\": [0.0020000000000006679, -0.011000000000000121, -0.0090000000000003411, 0.024999999999999467, 0.014000000000000234], \"ww\": [4730.04, 5711.088, 6318.717, 6319.237, 7657.61], \"difabs\": [\"0.002\", \"-0.011\", \"-0.009\", \"0.025\", \"0.014\"], \"ws\": [\"4730.0\", \"5711.1\", \"6318.7\", \"6319.2\", \"7657.6\"], \"ew\": [67.1, 105.8, 41.2, 25.1, 97.3]}, \"id\": \"0f787abd-0c2b-4d33-a3c5-71f5e1eac810\"}, \"type\": \"ColumnDataSource\", \"id\": \"0f787abd-0c2b-4d33-a3c5-71f5e1eac810\"}, {\"attributes\": {\"doc\": null, \"id\": \"b6aae2e7-2f9f-4ce7-80f0-c9d7b88b1e66\", \"tags\": []}, \"type\": \"BasicTickFormatter\", \"id\": \"b6aae2e7-2f9f-4ce7-80f0-c9d7b88b1e66\"}, {\"attributes\": {\"plot\": {\"subtype\": \"Figure\", \"type\": \"Plot\", \"id\": \"5766d680-6728-4df1-8ba9-6e9fb78fd6c7\"}, \"tags\": [], \"doc\": null, \"id\": \"dc4e5d6b-7e8b-46d3-9202-48012bac99a9\"}, \"type\": \"ResetTool\", \"id\": \"dc4e5d6b-7e8b-46d3-9202-48012bac99a9\"}, {\"attributes\": {\"line_color\": {\"value\": \"blue\"}, \"line_alpha\": {\"units\": \"data\", \"value\": 1.0}, \"fill_color\": {\"value\": \"blue\"}, \"tags\": [], \"doc\": null, \"fill_alpha\": {\"units\": \"data\", \"value\": 1.0}, \"y\": {\"units\": \"data\", \"field\": \"difab\"}, \"x\": {\"units\": \"data\", \"field\": \"ww\"}, \"id\": \"d1d8d2d6-17ba-48ae-882f-a89c82d72237\", \"size\": {\"units\": \"screen\", \"value\": 10}}, \"type\": \"Square\", \"id\": \"d1d8d2d6-17ba-48ae-882f-a89c82d72237\"}, {\"attributes\": {\"plot\": {\"subtype\": \"Figure\", \"type\": \"Plot\", \"id\": \"5766d680-6728-4df1-8ba9-6e9fb78fd6c7\"}, \"tags\": [], \"doc\": null, \"axis_label\": \"[MgI/H]\", \"formatter\": {\"type\": \"BasicTickFormatter\", \"id\": \"b6aae2e7-2f9f-4ce7-80f0-c9d7b88b1e66\"}, \"ticker\": {\"type\": \"BasicTicker\", \"id\": \"b6522541-fa5f-4b44-8740-dee2cbfc5be1\"}, \"id\": \"74b2dfe8-0b54-4493-a639-bd9720db1471\"}, \"type\": \"LinearAxis\", \"id\": \"74b2dfe8-0b54-4493-a639-bd9720db1471\"}, {\"attributes\": {\"tooltips\": [[\"Wavelength\", \"@ws A\"], [\"EW\", \"@ew mA\"], [\"Abundance\", \"@difabs\"]], \"plot\": {\"subtype\": \"Figure\", \"type\": \"Plot\", \"id\": \"5766d680-6728-4df1-8ba9-6e9fb78fd6c7\"}, \"tags\": [], \"doc\": null, \"renderers\": [], \"id\": \"d84e4722-9648-4cb8-9971-01dbe1e91c41\", \"names\": [], \"always_active\": true}, \"type\": \"HoverTool\", \"id\": \"d84e4722-9648-4cb8-9971-01dbe1e91c41\"}, {\"subtype\": \"Figure\", \"type\": \"Plot\", \"id\": \"5766d680-6728-4df1-8ba9-6e9fb78fd6c7\", \"attributes\": {\"x_range\": {\"type\": \"DataRange1d\", \"id\": \"a545a4f6-3239-44e7-9f6a-395d4ee93bff\"}, \"right\": [], \"tags\": [], \"tools\": [{\"type\": \"PanTool\", \"id\": \"f4d7a17b-014c-4a8a-a690-cfdf3eacbfa1\"}, {\"type\": \"WheelZoomTool\", \"id\": \"3f4e6ab8-3e9f-4dd8-b531-7ba7f85750b2\"}, {\"type\": \"BoxZoomTool\", \"id\": \"2a983040-2a8e-430c-b554-95882bc97501\"}, {\"type\": \"ResetTool\", \"id\": \"dc4e5d6b-7e8b-46d3-9202-48012bac99a9\"}, {\"type\": \"HoverTool\", \"id\": \"d84e4722-9648-4cb8-9971-01dbe1e91c41\"}], \"title\": \"HIP58067 - HIP58073\", \"extra_y_ranges\": {}, \"plot_width\": 650, \"renderers\": [{\"type\": \"LinearAxis\", \"id\": \"556f7a28-f0a0-4b2f-86fb-bf19fa9c49a8\"}, {\"type\": \"Grid\", \"id\": \"08fefaf9-e66a-4dfa-a5d6-bc49804d57e3\"}, {\"type\": \"LinearAxis\", \"id\": \"74b2dfe8-0b54-4493-a639-bd9720db1471\"}, {\"type\": \"Grid\", \"id\": \"a24aab77-f09b-43d0-88f4-ce100bbeb5a9\"}, {\"type\": \"GlyphRenderer\", \"id\": \"52049f21-93e2-4390-954e-fb84c627a8f0\"}], \"extra_x_ranges\": {}, \"plot_height\": 300, \"tool_events\": {\"type\": \"ToolEvents\", \"id\": \"9cf45a15-4aef-47bd-b593-b2e3ef367361\"}, \"above\": [], \"doc\": null, \"id\": \"5766d680-6728-4df1-8ba9-6e9fb78fd6c7\", \"y_range\": {\"type\": \"DataRange1d\", \"id\": \"53c5224b-8d16-4133-847e-22a13dfdb9ee\"}, \"below\": [{\"type\": \"LinearAxis\", \"id\": \"556f7a28-f0a0-4b2f-86fb-bf19fa9c49a8\"}], \"left\": [{\"type\": \"LinearAxis\", \"id\": \"74b2dfe8-0b54-4493-a639-bd9720db1471\"}]}}, {\"attributes\": {\"sources\": [{\"source\": {\"type\": \"ColumnDataSource\", \"id\": \"0f787abd-0c2b-4d33-a3c5-71f5e1eac810\"}, \"columns\": [\"difab\"]}], \"tags\": [], \"doc\": null, \"id\": \"53c5224b-8d16-4133-847e-22a13dfdb9ee\"}, \"type\": \"DataRange1d\", \"id\": \"53c5224b-8d16-4133-847e-22a13dfdb9ee\"}, {\"attributes\": {\"tags\": [], \"doc\": null, \"mantissas\": [2, 5, 10], \"id\": \"b6522541-fa5f-4b44-8740-dee2cbfc5be1\", \"num_minor_ticks\": 5}, \"type\": \"BasicTicker\", \"id\": \"b6522541-fa5f-4b44-8740-dee2cbfc5be1\"}, {\"attributes\": {\"sources\": [{\"source\": {\"type\": \"ColumnDataSource\", \"id\": \"0f787abd-0c2b-4d33-a3c5-71f5e1eac810\"}, \"columns\": [\"ww\"]}], \"tags\": [], \"doc\": null, \"id\": \"a545a4f6-3239-44e7-9f6a-395d4ee93bff\"}, \"type\": \"DataRange1d\", \"id\": \"a545a4f6-3239-44e7-9f6a-395d4ee93bff\"}, {\"attributes\": {\"plot\": {\"subtype\": \"Figure\", \"type\": \"Plot\", \"id\": \"5766d680-6728-4df1-8ba9-6e9fb78fd6c7\"}, \"dimensions\": [\"width\", \"height\"], \"tags\": [], \"doc\": null, \"id\": \"2a983040-2a8e-430c-b554-95882bc97501\"}, \"type\": \"BoxZoomTool\", \"id\": \"2a983040-2a8e-430c-b554-95882bc97501\"}, {\"attributes\": {\"plot\": {\"subtype\": \"Figure\", \"type\": \"Plot\", \"id\": \"5766d680-6728-4df1-8ba9-6e9fb78fd6c7\"}, \"tags\": [], \"doc\": null, \"dimension\": 1, \"ticker\": {\"type\": \"BasicTicker\", \"id\": \"b6522541-fa5f-4b44-8740-dee2cbfc5be1\"}, \"id\": \"a24aab77-f09b-43d0-88f4-ce100bbeb5a9\"}, \"type\": \"Grid\", \"id\": \"a24aab77-f09b-43d0-88f4-ce100bbeb5a9\"}, {\"attributes\": {\"geometries\": [], \"tags\": [], \"doc\": null, \"id\": \"9cf45a15-4aef-47bd-b593-b2e3ef367361\"}, \"type\": \"ToolEvents\", \"id\": \"9cf45a15-4aef-47bd-b593-b2e3ef367361\"}, {\"attributes\": {\"nonselection_glyph\": {\"type\": \"Square\", \"id\": \"edca885c-0757-468d-9534-c6a5e5b8ad54\"}, \"data_source\": {\"type\": \"ColumnDataSource\", \"id\": \"0f787abd-0c2b-4d33-a3c5-71f5e1eac810\"}, \"name\": null, \"tags\": [], \"doc\": null, \"selection_glyph\": null, \"id\": \"52049f21-93e2-4390-954e-fb84c627a8f0\", \"glyph\": {\"type\": \"Square\", \"id\": \"d1d8d2d6-17ba-48ae-882f-a89c82d72237\"}}, \"type\": \"GlyphRenderer\", \"id\": \"52049f21-93e2-4390-954e-fb84c627a8f0\"}, {\"attributes\": {\"tags\": [], \"doc\": null, \"mantissas\": [2, 5, 10], \"id\": \"a1f38571-2b04-4769-8800-cc44dee28367\", \"num_minor_ticks\": 5}, \"type\": \"BasicTicker\", \"id\": \"a1f38571-2b04-4769-8800-cc44dee28367\"}, {\"attributes\": {\"doc\": null, \"id\": \"cd2a3421-231b-42a1-850f-f338e28e250a\", \"tags\": []}, \"type\": \"BasicTickFormatter\", \"id\": \"cd2a3421-231b-42a1-850f-f338e28e250a\"}];\n",
        "            Bokeh.load_models(all_models);\n",
        "            var model = Bokeh.Collections(modeltype).get(modelid);\n",
        "            var view = new model.default_view({model: model, el: '#7ba20648-bb95-45cd-bfaa-0ddc488fc815'});\n",
        "            Bokeh.index[modelid] = view\n",
        "        });\n",
        "    </script>\n",
        "<div class=\"plotdiv\" id=\"7ba20648-bb95-45cd-bfaa-0ddc488fc815\"></div>\n",
        "\n"
       ],
       "metadata": {},
       "output_type": "display_data"
      }
     ],
     "prompt_number": 67
    },
    {
     "cell_type": "code",
     "collapsed": false,
     "input": [
      "print np.mean(a.MgI['difab'])\n",
      "print np.std(a.MgI['difab'])"
     ],
     "language": "python",
     "metadata": {},
     "outputs": [
      {
       "output_type": "stream",
       "stream": "stdout",
       "text": [
        "0.0042\n",
        "0.0137025545064\n"
       ]
      }
     ],
     "prompt_number": 48
    },
    {
     "cell_type": "code",
     "collapsed": false,
     "input": [],
     "language": "python",
     "metadata": {},
     "outputs": [],
     "prompt_number": 47
    },
    {
     "cell_type": "code",
     "collapsed": false,
     "input": [],
     "language": "python",
     "metadata": {},
     "outputs": []
    }
   ],
   "metadata": {}
  }
 ]
}